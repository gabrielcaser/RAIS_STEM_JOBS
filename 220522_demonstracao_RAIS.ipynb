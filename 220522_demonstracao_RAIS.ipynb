{
 "cells": [
  {
   "cell_type": "markdown",
   "id": "683693ba",
   "metadata": {},
   "source": [
    "# STEM JOBS"
   ]
  },
  {
   "cell_type": "markdown",
   "id": "721350ce",
   "metadata": {},
   "source": [
    "- O objetivo desse trabalho foi criar um df o qual conteria todos os indivíduos que trabalharam nos CNAE (segmentos econômicos) em que a Odebrecht operava em coortes diferentes (2012 a 2016)"
   ]
  },
  {
   "cell_type": "markdown",
   "id": "c94f7559",
   "metadata": {},
   "source": [
    "- Esses dados seriam posteriormente utilizados em uma análise econométrica para estimar o efeito da operação Lava Jato na criação de \"manager/director spin-offs\", ou seja, na criação de empresas novas por ex-CEOs da Odebrecht"
   ]
  },
  {
   "cell_type": "markdown",
   "id": "e1ba8f63",
   "metadata": {},
   "source": [
    "- Todos os dados que identificam indivíduos ou informações sigilosas foram removidos deste script em respeito as normas da LGPD"
   ]
  },
  {
   "cell_type": "markdown",
   "id": "d75ac3db",
   "metadata": {},
   "source": [
    "# Configurando o ambiente"
   ]
  },
  {
   "cell_type": "code",
   "execution_count": 2,
   "id": "b1dcab9c",
   "metadata": {},
   "outputs": [],
   "source": [
    "import pandas as pd\n",
    "import numpy as np\n",
    "import seaborn as sns\n",
    "import basedosdados as bd\n",
    "import pyodbc\n",
    "import re\n",
    "import time\n",
    "\n",
    "sns.set(rc={'figure.figsize':(11.7,8.27)})\n",
    "sns.set_theme(style=\"darkgrid\")"
   ]
  },
  {
   "cell_type": "markdown",
   "id": "cf01d58e",
   "metadata": {},
   "source": [
    "# Criando lista Odebrecht e Camargo"
   ]
  },
  {
   "cell_type": "markdown",
   "id": "23077e5e",
   "metadata": {},
   "source": [
    "- A lista de empresas da Odebrecht e da Camargo Correa foi recolhida da Revista Valor Grandes Grupos"
   ]
  },
  {
   "cell_type": "code",
   "execution_count": 3,
   "id": "c6f299e3",
   "metadata": {},
   "outputs": [],
   "source": [
    "ode_cam = pd.read_csv(\"Dados/Input/220414_empresas_valor_grandes_grupos.csv\", sep = \";\", dtype ='str',  encoding='latin-1')"
   ]
  },
  {
   "cell_type": "code",
   "execution_count": 4,
   "id": "b43406c7",
   "metadata": {},
   "outputs": [
    {
     "data": {
      "text/html": [
       "<div>\n",
       "<style scoped>\n",
       "    .dataframe tbody tr th:only-of-type {\n",
       "        vertical-align: middle;\n",
       "    }\n",
       "\n",
       "    .dataframe tbody tr th {\n",
       "        vertical-align: top;\n",
       "    }\n",
       "\n",
       "    .dataframe thead th {\n",
       "        text-align: right;\n",
       "    }\n",
       "</style>\n",
       "<table border=\"1\" class=\"dataframe\">\n",
       "  <thead>\n",
       "    <tr style=\"text-align: right;\">\n",
       "      <th></th>\n",
       "      <th>empresa</th>\n",
       "      <th>grupo</th>\n",
       "      <th>cnpj</th>\n",
       "      <th>ano</th>\n",
       "    </tr>\n",
       "  </thead>\n",
       "  <tbody>\n",
       "    <tr>\n",
       "      <th>0</th>\n",
       "      <td>Nordeste Quimica S.A. Norquisa</td>\n",
       "      <td>odebrecht</td>\n",
       "      <td>15.659.535/0001-46</td>\n",
       "      <td>2015</td>\n",
       "    </tr>\n",
       "    <tr>\n",
       "      <th>1</th>\n",
       "      <td>Odebrecht Serviços e Participações S.A.</td>\n",
       "      <td>odebrecht</td>\n",
       "      <td>10.904.193/0001-69</td>\n",
       "      <td>2015</td>\n",
       "    </tr>\n",
       "    <tr>\n",
       "      <th>2</th>\n",
       "      <td>ODBINV S.A.</td>\n",
       "      <td>odebrecht</td>\n",
       "      <td>15.105.588/0001-15</td>\n",
       "      <td>2015</td>\n",
       "    </tr>\n",
       "    <tr>\n",
       "      <th>3</th>\n",
       "      <td>Odebrecht Participações e Engenharia S.A.</td>\n",
       "      <td>odebrecht</td>\n",
       "      <td>17.851.495/0001-65</td>\n",
       "      <td>2015</td>\n",
       "    </tr>\n",
       "    <tr>\n",
       "      <th>4</th>\n",
       "      <td>Odebrecht Realizações Imobiliárias e Participa...</td>\n",
       "      <td>odebrecht</td>\n",
       "      <td>06.206.132/0001-50</td>\n",
       "      <td>2015</td>\n",
       "    </tr>\n",
       "  </tbody>\n",
       "</table>\n",
       "</div>"
      ],
      "text/plain": [
       "                                             empresa      grupo  \\\n",
       "0                     Nordeste Quimica S.A. Norquisa  odebrecht   \n",
       "1            Odebrecht Serviços e Participações S.A.  odebrecht   \n",
       "2                                        ODBINV S.A.  odebrecht   \n",
       "3          Odebrecht Participações e Engenharia S.A.  odebrecht   \n",
       "4  Odebrecht Realizações Imobiliárias e Participa...  odebrecht   \n",
       "\n",
       "                 cnpj   ano  \n",
       "0  15.659.535/0001-46  2015  \n",
       "1  10.904.193/0001-69  2015  \n",
       "2  15.105.588/0001-15  2015  \n",
       "3  17.851.495/0001-65  2015  \n",
       "4  06.206.132/0001-50  2015  "
      ]
     },
     "execution_count": 4,
     "metadata": {},
     "output_type": "execute_result"
    }
   ],
   "source": [
    "ode_cam.head()"
   ]
  },
  {
   "cell_type": "code",
   "execution_count": 5,
   "id": "85bad394",
   "metadata": {},
   "outputs": [],
   "source": [
    "ode_cam[\"cnpj_limpo\"] = ode_cam[\"cnpj\"].apply(lambda x: re.sub('[^0-9]', '', str(x)[:10]))"
   ]
  },
  {
   "cell_type": "code",
   "execution_count": 6,
   "id": "78986f74",
   "metadata": {},
   "outputs": [
    {
     "data": {
      "text/html": [
       "<div>\n",
       "<style scoped>\n",
       "    .dataframe tbody tr th:only-of-type {\n",
       "        vertical-align: middle;\n",
       "    }\n",
       "\n",
       "    .dataframe tbody tr th {\n",
       "        vertical-align: top;\n",
       "    }\n",
       "\n",
       "    .dataframe thead th {\n",
       "        text-align: right;\n",
       "    }\n",
       "</style>\n",
       "<table border=\"1\" class=\"dataframe\">\n",
       "  <thead>\n",
       "    <tr style=\"text-align: right;\">\n",
       "      <th></th>\n",
       "      <th>empresa</th>\n",
       "      <th>grupo</th>\n",
       "      <th>cnpj</th>\n",
       "      <th>ano</th>\n",
       "      <th>cnpj_limpo</th>\n",
       "    </tr>\n",
       "  </thead>\n",
       "  <tbody>\n",
       "    <tr>\n",
       "      <th>0</th>\n",
       "      <td>Nordeste Quimica S.A. Norquisa</td>\n",
       "      <td>odebrecht</td>\n",
       "      <td>15.659.535/0001-46</td>\n",
       "      <td>2015</td>\n",
       "      <td>15659535</td>\n",
       "    </tr>\n",
       "    <tr>\n",
       "      <th>1</th>\n",
       "      <td>Odebrecht Serviços e Participações S.A.</td>\n",
       "      <td>odebrecht</td>\n",
       "      <td>10.904.193/0001-69</td>\n",
       "      <td>2015</td>\n",
       "      <td>10904193</td>\n",
       "    </tr>\n",
       "    <tr>\n",
       "      <th>2</th>\n",
       "      <td>ODBINV S.A.</td>\n",
       "      <td>odebrecht</td>\n",
       "      <td>15.105.588/0001-15</td>\n",
       "      <td>2015</td>\n",
       "      <td>15105588</td>\n",
       "    </tr>\n",
       "    <tr>\n",
       "      <th>3</th>\n",
       "      <td>Odebrecht Participações e Engenharia S.A.</td>\n",
       "      <td>odebrecht</td>\n",
       "      <td>17.851.495/0001-65</td>\n",
       "      <td>2015</td>\n",
       "      <td>17851495</td>\n",
       "    </tr>\n",
       "    <tr>\n",
       "      <th>4</th>\n",
       "      <td>Odebrecht Realizações Imobiliárias e Participa...</td>\n",
       "      <td>odebrecht</td>\n",
       "      <td>06.206.132/0001-50</td>\n",
       "      <td>2015</td>\n",
       "      <td>06206132</td>\n",
       "    </tr>\n",
       "    <tr>\n",
       "      <th>5</th>\n",
       "      <td>Odebrecht Agroindustrial Investimentos S.A</td>\n",
       "      <td>odebrecht</td>\n",
       "      <td>NaN</td>\n",
       "      <td>2015</td>\n",
       "      <td></td>\n",
       "    </tr>\n",
       "    <tr>\n",
       "      <th>6</th>\n",
       "      <td>Odebrecht Energia S.A</td>\n",
       "      <td>odebrecht</td>\n",
       "      <td>13.079.757/0002-45</td>\n",
       "      <td>2015</td>\n",
       "      <td>13079757</td>\n",
       "    </tr>\n",
       "    <tr>\n",
       "      <th>7</th>\n",
       "      <td>Braskem S.A.</td>\n",
       "      <td>odebrecht</td>\n",
       "      <td>42.150.391/0001-70</td>\n",
       "      <td>2015</td>\n",
       "      <td>42150391</td>\n",
       "    </tr>\n",
       "    <tr>\n",
       "      <th>8</th>\n",
       "      <td>Enseada indústria Naval Participações S.A.</td>\n",
       "      <td>odebrecht</td>\n",
       "      <td>12.243.301/0001-25</td>\n",
       "      <td>2015</td>\n",
       "      <td>12243301</td>\n",
       "    </tr>\n",
       "    <tr>\n",
       "      <th>9</th>\n",
       "      <td>Odebrecht S.A.</td>\n",
       "      <td>odebrecht</td>\n",
       "      <td>05.144.757/0005-04</td>\n",
       "      <td>2015</td>\n",
       "      <td>05144757</td>\n",
       "    </tr>\n",
       "  </tbody>\n",
       "</table>\n",
       "</div>"
      ],
      "text/plain": [
       "                                             empresa      grupo  \\\n",
       "0                     Nordeste Quimica S.A. Norquisa  odebrecht   \n",
       "1            Odebrecht Serviços e Participações S.A.  odebrecht   \n",
       "2                                        ODBINV S.A.  odebrecht   \n",
       "3          Odebrecht Participações e Engenharia S.A.  odebrecht   \n",
       "4  Odebrecht Realizações Imobiliárias e Participa...  odebrecht   \n",
       "5         Odebrecht Agroindustrial Investimentos S.A  odebrecht   \n",
       "6                              Odebrecht Energia S.A  odebrecht   \n",
       "7                                       Braskem S.A.  odebrecht   \n",
       "8         Enseada indústria Naval Participações S.A.  odebrecht   \n",
       "9                                     Odebrecht S.A.  odebrecht   \n",
       "\n",
       "                 cnpj   ano cnpj_limpo  \n",
       "0  15.659.535/0001-46  2015   15659535  \n",
       "1  10.904.193/0001-69  2015   10904193  \n",
       "2  15.105.588/0001-15  2015   15105588  \n",
       "3  17.851.495/0001-65  2015   17851495  \n",
       "4  06.206.132/0001-50  2015   06206132  \n",
       "5                 NaN  2015             \n",
       "6  13.079.757/0002-45  2015   13079757  \n",
       "7  42.150.391/0001-70  2015   42150391  \n",
       "8  12.243.301/0001-25  2015   12243301  \n",
       "9  05.144.757/0005-04  2015   05144757  "
      ]
     },
     "execution_count": 6,
     "metadata": {},
     "output_type": "execute_result"
    }
   ],
   "source": [
    "ode_cam.head(10)"
   ]
  },
  {
   "cell_type": "code",
   "execution_count": 7,
   "id": "fd8e9cfb",
   "metadata": {},
   "outputs": [
    {
     "data": {
      "text/plain": [
       "468"
      ]
     },
     "execution_count": 7,
     "metadata": {},
     "output_type": "execute_result"
    }
   ],
   "source": [
    "len(ode_cam[\"cnpj_limpo\"])"
   ]
  },
  {
   "cell_type": "code",
   "execution_count": 8,
   "id": "6969e928",
   "metadata": {},
   "outputs": [],
   "source": [
    "ode_cam = ode_cam.dropna()"
   ]
  },
  {
   "cell_type": "code",
   "execution_count": 9,
   "id": "d506cab3",
   "metadata": {},
   "outputs": [
    {
     "data": {
      "text/plain": [
       "292"
      ]
     },
     "execution_count": 9,
     "metadata": {},
     "output_type": "execute_result"
    }
   ],
   "source": [
    "len(ode_cam)"
   ]
  },
  {
   "cell_type": "code",
   "execution_count": 10,
   "id": "5bfd8647",
   "metadata": {},
   "outputs": [],
   "source": [
    "ode_cam.to_csv(\"Dados/Output/220413_cnpjs_odebrecht_camargo.csv\", sep = \";\", index = False, encoding = \"utf-8-sig\" )"
   ]
  },
  {
   "cell_type": "code",
   "execution_count": 11,
   "id": "c8d0e1de",
   "metadata": {},
   "outputs": [],
   "source": [
    "cnpjs = tuple(ode_cam[\"cnpj_limpo\"])"
   ]
  },
  {
   "cell_type": "code",
   "execution_count": 12,
   "id": "a9697f99",
   "metadata": {},
   "outputs": [],
   "source": [
    "cnpjs_odebrecht = tuple(ode_cam.query(\"grupo == 'odebrecht'\").cnpj_limpo)"
   ]
  },
  {
   "cell_type": "markdown",
   "id": "5727af8d",
   "metadata": {},
   "source": [
    "# Baixando dados da RAIS"
   ]
  },
  {
   "cell_type": "code",
   "execution_count": 13,
   "id": "26f6be70",
   "metadata": {},
   "outputs": [],
   "source": [
    "server = 'beirute-01'\n",
    "\n",
    "database = 'RAIS'\n",
    "\n",
    "port= '***'\n",
    "\n",
    "username = '****'\n",
    "\n",
    "password = '****'\n",
    "\n",
    "driver= '{SQL Server}'\n",
    "\n",
    "cnxn = pyodbc.connect('DRIVER='+driver+';SERVER='+server+';PORT='+port+';DATABASE='+database+';UID='+username+';PWD='+ password)\n",
    "\n",
    "cursor = cnxn.cursor()"
   ]
  },
  {
   "cell_type": "markdown",
   "id": "5c95e3b8",
   "metadata": {},
   "source": [
    "# Encontrando CNAES Odebrecht"
   ]
  },
  {
   "cell_type": "code",
   "execution_count": 14,
   "id": "1b126382",
   "metadata": {},
   "outputs": [],
   "source": [
    "estados = [\"SP\",\"RJ\",\"BA\",\"MG\",\"PR\"] # estados de interesse"
   ]
  },
  {
   "cell_type": "code",
   "execution_count": 15,
   "id": "dee5bba0",
   "metadata": {},
   "outputs": [],
   "source": [
    "cnaes = []\n",
    "df = pd.DataFrame()"
   ]
  },
  {
   "cell_type": "code",
   "execution_count": 16,
   "id": "c6236925",
   "metadata": {},
   "outputs": [],
   "source": [
    "def cnae(ano,estado):\n",
    "    global df, cnaes\n",
    "    consulta_1 = \"\"\" SELECT\n",
    "                 a.CPF,\n",
    "                 a.[Nome Trabalhador],\n",
    "                 a.[Município],\n",
    "                 a.[CNAE 95 Classe],\n",
    "                 a.[Sexo Trabalhador],\n",
    "                 a.[Raça Cor],\n",
    "                 a.[Idade],\n",
    "                 a.[CNPJ Raiz],\n",
    "                 a.[CBO Ocupação 2002],\n",
    "                 a.[CNAE 2 0 Classe] as cnae,\n",
    "                 a.[Vl Salário Contratual],\n",
    "                 a.[Vl Remun Média (SM)],\n",
    "                 a.[Vl Remun Média Nom],\n",
    "                 a.[Vl Remun Dezembro Nom],\n",
    "                 a.[Tipo Vínculo],\n",
    "                 a.[Motivo Desligamento],\n",
    "                 a.[Mês Desligamento],\n",
    "                 a.[Escolaridade após 2005],\n",
    "                 a.[Natureza Jurídica],\n",
    "                 a.[Data Admissão Declarada],\n",
    "                 a.[Tempo Emprego],\n",
    "                 a.[CNAE 2 0 Subclasse] as cnae_sub,\n",
    "                 a.[Vínculo Ativo 31 12] as vinc_ativ3112\n",
    "                 FROM dbo.{}{}ID a\n",
    "                 WHERE a.[Escolaridade após 2005] >= 7\n",
    "                 AND [CNPJ Raiz] IN {}\n",
    "                \"\"\".format(estado,ano,cnpjs_odebrecht)\n",
    "\n",
    "    df_provisorio = pd.read_sql(consulta_1,  cnxn)\n",
    "\n",
    "    print(df_provisorio[\"vinc_ativ3112\"].unique())\n",
    "    \n",
    "    cnaes = list(dict.fromkeys(cnaes + list(df_provisorio.cnae.unique())))"
   ]
  },
  {
   "cell_type": "code",
   "execution_count": 17,
   "id": "874eaf2d",
   "metadata": {},
   "outputs": [
    {
     "name": "stdout",
     "output_type": "stream",
     "text": [
      "[1 0]\n",
      "[1 0]\n",
      "[1 0]\n",
      "[0 1]\n",
      "[1 0]\n",
      "My program took 104.31728458404541 to run\n"
     ]
    }
   ],
   "source": [
    "start_time = time.time()\n",
    "\n",
    "for x in estados:\n",
    "    cnae(2015,x)\n",
    "\n",
    "print(\"My program took\", time.time() - start_time, \"to run\")"
   ]
  },
  {
   "cell_type": "code",
   "execution_count": 18,
   "id": "8ed541b4",
   "metadata": {},
   "outputs": [],
   "source": [
    "lista = []\n",
    "for i in cnaes:\n",
    "    lista.append(i[0:5])"
   ]
  },
  {
   "cell_type": "code",
   "execution_count": 19,
   "id": "82f3bd66",
   "metadata": {},
   "outputs": [],
   "source": [
    "cnaes = tuple(lista)"
   ]
  },
  {
   "cell_type": "code",
   "execution_count": 20,
   "id": "91da7619",
   "metadata": {},
   "outputs": [
    {
     "data": {
      "text/plain": [
       "('42120',\n",
       " '20215',\n",
       " '72100',\n",
       " '36006',\n",
       " '71120',\n",
       " '64620',\n",
       " '70204',\n",
       " '19314',\n",
       " '20312',\n",
       " '52311',\n",
       " '52214',\n",
       " '37011',\n",
       " '41204',\n",
       " '42138',\n",
       " '66223',\n",
       " '38211',\n",
       " '42227',\n",
       " '42928',\n",
       " '73122',\n",
       " '52401',\n",
       " '49124',\n",
       " '41107',\n",
       " '46931',\n",
       " '09106',\n",
       " '33171',\n",
       " '52508',\n",
       " '10651',\n",
       " '38220',\n",
       " '01351',\n",
       " '37029',\n",
       " '20118',\n",
       " '25993',\n",
       " '46893')"
      ]
     },
     "execution_count": 20,
     "metadata": {},
     "output_type": "execute_result"
    }
   ],
   "source": [
    "cnaes"
   ]
  },
  {
   "cell_type": "code",
   "execution_count": 21,
   "id": "85c3b133",
   "metadata": {},
   "outputs": [
    {
     "data": {
      "text/plain": [
       "33"
      ]
     },
     "execution_count": 21,
     "metadata": {},
     "output_type": "execute_result"
    }
   ],
   "source": [
    "len(cnaes)"
   ]
  },
  {
   "cell_type": "markdown",
   "id": "97669da5",
   "metadata": {},
   "source": [
    "## Criando Painel 2012"
   ]
  },
  {
   "cell_type": "code",
   "execution_count": 22,
   "id": "9ffd54ad",
   "metadata": {},
   "outputs": [],
   "source": [
    "estados = [\"SP\",\"RJ\",\"BA\",\"MG\",\"PR\"] # estados de interesse\n",
    "anos = [2012,2013,2014] # anos do painel"
   ]
  },
  {
   "cell_type": "code",
   "execution_count": 23,
   "id": "b3e3af62",
   "metadata": {},
   "outputs": [],
   "source": [
    "cpfs = []\n",
    "df = pd.DataFrame()"
   ]
  },
  {
   "cell_type": "code",
   "execution_count": 24,
   "id": "42a2a7df",
   "metadata": {},
   "outputs": [],
   "source": [
    "def raispainel(ano,estado):\n",
    "    global df, cpfs\n",
    "    consulta_1 = \"\"\" SELECT\n",
    "                 a.CPF,\n",
    "                 a.[Nome Trabalhador],\n",
    "                 a.[Município],\n",
    "                 a.[CNAE 95 Classe],\n",
    "                 a.[Sexo Trabalhador],\n",
    "                 a.[Raça Cor],\n",
    "                 a.[Idade],\n",
    "                 a.[CNPJ Raiz],\n",
    "                 a.[CBO Ocupação 2002] as cbo2002,\n",
    "                 a.[CBO 94 Ocupação] as cbo_94,\n",
    "                 a.[CNAE 2 0 Classe] as cnae,\n",
    "                 a.[Vl Salário Contratual],\n",
    "                 a.[Vl Remun Média (SM)],\n",
    "                 a.[Vl Remun Média Nom],\n",
    "                 a.[Vl Remun Dezembro Nom],\n",
    "                 a.[Tipo Vínculo],\n",
    "                 a.[Motivo Desligamento],\n",
    "                 a.[Mês Desligamento],\n",
    "                 a.[Escolaridade após 2005],\n",
    "                 a.[Natureza Jurídica],\n",
    "                 a.[Data Admissão Declarada],\n",
    "                 a.[Tempo Emprego],\n",
    "                 a.[CNAE 2 0 Subclasse] as cnae_sub,\n",
    "                 a.[Vínculo Ativo 31 12] as vinc_ativ3112\n",
    "                 FROM dbo.{}{}ID a\n",
    "                 WHERE a.[Escolaridade após 2005] >= 7\n",
    "                 AND a.[Vínculo Ativo 31 12] != '1'\n",
    "                 AND a.[Vínculo Ativo 31 12] != ' 1'\n",
    "                 AND a.[Vínculo Ativo 31 12] != 1\n",
    "                 AND a.[CNAE 2 0 Classe] IN {}\n",
    "                \"\"\".format(estado,ano,cnaes)\n",
    "\n",
    "    df_provisorio = pd.read_sql(consulta_1,  cnxn)\n",
    "\n",
    "    df_provisorio[\"Ano\"] = ano\n",
    "    df_provisorio[\"Estado\"] = estado\n",
    "    df_provisorio[\"painel\"] = anos[0]\n",
    "    \n",
    "    \n",
    "    df_provisorio['CPF'] = df_provisorio['CPF'].str.strip()\n",
    "\n",
    "    \n",
    "    df_provisorio.loc[(df_provisorio['vinc_ativ3112'] == ' 1') |\n",
    "                      (df_provisorio['vinc_ativ3112'] == '1')  |\n",
    "                      (df_provisorio['vinc_ativ3112'] == 'True'), 'vinc_ativ3112'] = 1\n",
    "    \n",
    "    df_provisorio.loc[(df_provisorio['vinc_ativ3112'] == ' 0') |\n",
    "                      (df_provisorio['vinc_ativ3112'] == '0')  |\n",
    "                      (df_provisorio['vinc_ativ3112'] == 'False'),'vinc_ativ3112'] = 0\n",
    "    \n",
    "    df = pd.concat([df, df_provisorio])\n",
    "\n",
    "\n",
    "    cpfs = list(dict.fromkeys(cpfs + list(df_provisorio.query(\"vinc_ativ3112 != 1\").CPF.unique())))\n",
    "\n",
    "\n",
    "    print(f\"foi criado um df de tamanho {len(df)} e uma lista chamada cpf de tamanho {len(cpfs)}\")"
   ]
  },
  {
   "cell_type": "code",
   "execution_count": 25,
   "id": "d27588f3",
   "metadata": {
    "scrolled": false
   },
   "outputs": [
    {
     "name": "stdout",
     "output_type": "stream",
     "text": [
      "foi criado um df de tamanho 284969 e uma lista chamada cpf de tamanho 273057\n",
      "foi criado um df de tamanho 373133 e uma lista chamada cpf de tamanho 355472\n",
      "foi criado um df de tamanho 445446 e uma lista chamada cpf de tamanho 421687\n",
      "foi criado um df de tamanho 554742 e uma lista chamada cpf de tamanho 523831\n",
      "foi criado um df de tamanho 622825 e uma lista chamada cpf de tamanho 587014\n",
      "My program took 37.035183906555176 to run\n"
     ]
    }
   ],
   "source": [
    "\n",
    "start_time = time.time()\n",
    "\n",
    "for x in estados:\n",
    "    raispainel(anos[0],x)\n",
    "\n",
    "print(\"My program took\", time.time() - start_time, \"to run\")"
   ]
  },
  {
   "cell_type": "code",
   "execution_count": 26,
   "id": "7418157e",
   "metadata": {},
   "outputs": [
    {
     "data": {
      "text/plain": [
       "array([0], dtype=int64)"
      ]
     },
     "execution_count": 26,
     "metadata": {},
     "output_type": "execute_result"
    }
   ],
   "source": [
    "df[\"vinc_ativ3112\"].unique()"
   ]
  },
  {
   "cell_type": "code",
   "execution_count": null,
   "id": "6a5f7676",
   "metadata": {},
   "outputs": [],
   "source": []
  },
  {
   "cell_type": "code",
   "execution_count": 27,
   "id": "7c773486",
   "metadata": {},
   "outputs": [],
   "source": [
    "def raispainel2(ano,estado):\n",
    "    global df\n",
    "    consulta_1 = \"\"\" SELECT\n",
    "                 a.CPF,\n",
    "                 a.[Nome Trabalhador],\n",
    "                 a.[Município],\n",
    "                 a.[CNAE 95 Classe],\n",
    "                 a.[Sexo Trabalhador],\n",
    "                 a.[Raça Cor],\n",
    "                 a.[Idade],\n",
    "                 a.[CNPJ Raiz],\n",
    "                 a.[CBO Ocupação 2002] as cbo2002,\n",
    "                 a.[CBO 94 Ocupação] as cbo_94,\n",
    "                 a.[CNAE 2 0 Classe] as cnae,\n",
    "                 a.[Vl Salário Contratual],\n",
    "                 a.[Vl Remun Média (SM)],\n",
    "                 a.[Vl Remun Média Nom],\n",
    "                 a.[Vl Remun Dezembro Nom],\n",
    "                 a.[Tipo Vínculo],\n",
    "                 a.[Motivo Desligamento],\n",
    "                 a.[Mês Desligamento],\n",
    "                 a.[Escolaridade após 2005],\n",
    "                 a.[Natureza Jurídica],\n",
    "                 a.[Data Admissão Declarada],\n",
    "                 a.[Tempo Emprego],\n",
    "                 a.[CNAE 2 0 Subclasse] as cnae_sub,\n",
    "                 a.[Vínculo Ativo 31 12] as vinc_ativ3112\n",
    "                 FROM dbo.{}{}ID a\n",
    "                 WHERE a.[Vínculo Ativo 31 12] != '0'\n",
    "                 AND a.[Vínculo Ativo 31 12] != ' 0'\n",
    "                 AND a.[Vínculo Ativo 31 12] != 0\n",
    "                 AND a.[Vínculo Ativo 31 12] != ''\n",
    "                 AND a.[Escolaridade após 2005] >= 7\n",
    "                \"\"\".format(estado,ano)\n",
    "\n",
    "    df_provisorio = pd.read_sql(consulta_1,  cnxn)\n",
    "    \n",
    "    df_provisorio['CPF'] = df_provisorio['CPF'].str.strip()\n",
    "    \n",
    "    df_provisorio = df_provisorio.query(\"CPF in @cpfs\")\n",
    "    \n",
    "    df_provisorio[\"Ano\"] = ano\n",
    "    df_provisorio[\"Estado\"] = estado\n",
    "    df_provisorio[\"painel\"] = anos[0]\n",
    "    \n",
    "    df = pd.concat([df, df_provisorio])\n",
    "\n",
    "\n",
    "    print(f\"foi criado um df de tamanho {len(df)}\")"
   ]
  },
  {
   "cell_type": "code",
   "execution_count": 28,
   "id": "a4724dd0",
   "metadata": {},
   "outputs": [
    {
     "name": "stdout",
     "output_type": "stream",
     "text": [
      "foi criado um df de tamanho 738623\n",
      "foi criado um df de tamanho 851801\n",
      "foi criado um df de tamanho 893757\n",
      "foi criado um df de tamanho 935369\n",
      "foi criado um df de tamanho 956030\n",
      "foi criado um df de tamanho 976370\n",
      "foi criado um df de tamanho 1015348\n",
      "foi criado um df de tamanho 1053725\n",
      "foi criado um df de tamanho 1073290\n",
      "foi criado um df de tamanho 1092875\n",
      "My program took 997.9832656383514 to run\n"
     ]
    }
   ],
   "source": [
    "\n",
    "start_time = time.time()\n",
    "\n",
    "for x in estados:\n",
    "    raispainel2(anos[1],x)\n",
    "    raispainel2(anos[2],x)\n",
    "\n",
    "print(\"My program took\", time.time() - start_time, \"to run\")"
   ]
  },
  {
   "cell_type": "code",
   "execution_count": 29,
   "id": "531dea38",
   "metadata": {},
   "outputs": [
    {
     "name": "stdout",
     "output_type": "stream",
     "text": [
      "<class 'pandas.core.frame.DataFrame'>\n",
      "Int64Index: 1092875 entries, 0 to 2142962\n",
      "Data columns (total 27 columns):\n",
      " #   Column                   Non-Null Count    Dtype  \n",
      "---  ------                   --------------    -----  \n",
      " 0   CPF                      1092875 non-null  object \n",
      " 1   Nome Trabalhador         1092875 non-null  object \n",
      " 2   Município                1092875 non-null  int64  \n",
      " 3   CNAE 95 Classe           1092875 non-null  int64  \n",
      " 4   Sexo Trabalhador         1092875 non-null  int64  \n",
      " 5   Raça Cor                 1092875 non-null  int64  \n",
      " 6   Idade                    1092875 non-null  int64  \n",
      " 7   CNPJ Raiz                1092875 non-null  object \n",
      " 8   cbo2002                  1092875 non-null  object \n",
      " 9   cbo_94                   1092875 non-null  object \n",
      " 10  cnae                     1092875 non-null  object \n",
      " 11  Vl Salário Contratual    1092875 non-null  float64\n",
      " 12  Vl Remun Média (SM)      1092875 non-null  float64\n",
      " 13  Vl Remun Média Nom       1092875 non-null  float64\n",
      " 14  Vl Remun Dezembro Nom    1092875 non-null  float64\n",
      " 15  Tipo Vínculo             1092875 non-null  int64  \n",
      " 16  Motivo Desligamento      1092875 non-null  int64  \n",
      " 17  Mês Desligamento         1092875 non-null  int64  \n",
      " 18  Escolaridade após 2005   1092875 non-null  int64  \n",
      " 19  Natureza Jurídica        1092875 non-null  int64  \n",
      " 20  Data Admissão Declarada  1092875 non-null  object \n",
      " 21  Tempo Emprego            1092875 non-null  float64\n",
      " 22  cnae_sub                 1092875 non-null  object \n",
      " 23  vinc_ativ3112            1092875 non-null  int64  \n",
      " 24  Ano                      1092875 non-null  int64  \n",
      " 25  Estado                   1092875 non-null  object \n",
      " 26  painel                   1092875 non-null  int64  \n",
      "dtypes: float64(5), int64(13), object(9)\n",
      "memory usage: 233.5+ MB\n"
     ]
    }
   ],
   "source": [
    "df.info()"
   ]
  },
  {
   "cell_type": "code",
   "execution_count": 30,
   "id": "de9675f0",
   "metadata": {},
   "outputs": [
    {
     "data": {
      "text/plain": [
       "array([0, 1], dtype=int64)"
      ]
     },
     "execution_count": 30,
     "metadata": {},
     "output_type": "execute_result"
    }
   ],
   "source": [
    "df[\"vinc_ativ3112\"].unique()"
   ]
  },
  {
   "cell_type": "markdown",
   "id": "745eef81",
   "metadata": {},
   "source": [
    "# Criando painel 2013"
   ]
  },
  {
   "cell_type": "code",
   "execution_count": 31,
   "id": "ca4b3987",
   "metadata": {},
   "outputs": [],
   "source": [
    "estados = [\"SP\",\"RJ\",\"BA\",\"MG\",\"PR\"] # estados de interesse\n",
    "anos = [2013,2014,2015] # anos do painel\n",
    "\n",
    "cpfs = []"
   ]
  },
  {
   "cell_type": "code",
   "execution_count": 32,
   "id": "20700e39",
   "metadata": {},
   "outputs": [
    {
     "name": "stdout",
     "output_type": "stream",
     "text": [
      "foi criado um df de tamanho 1371752 e uma lista chamada cpf de tamanho 266878\n",
      "foi criado um df de tamanho 1475008 e uma lista chamada cpf de tamanho 365187\n",
      "foi criado um df de tamanho 1549520 e uma lista chamada cpf de tamanho 432992\n",
      "foi criado um df de tamanho 1662448 e uma lista chamada cpf de tamanho 538737\n",
      "foi criado um df de tamanho 1726179 e uma lista chamada cpf de tamanho 598041\n",
      "My program took 34.96587371826172 to run\n"
     ]
    }
   ],
   "source": [
    "start_time = time.time()\n",
    "\n",
    "for x in estados:\n",
    "    raispainel(anos[0],x)\n",
    "\n",
    "print(\"My program took\", time.time() - start_time, \"to run\")"
   ]
  },
  {
   "cell_type": "code",
   "execution_count": 33,
   "id": "98c92767",
   "metadata": {},
   "outputs": [
    {
     "name": "stdout",
     "output_type": "stream",
     "text": [
      "foi criado um df de tamanho 1835304\n",
      "foi criado um df de tamanho 1936886\n",
      "foi criado um df de tamanho 1980697\n",
      "foi criado um df de tamanho 2019353\n",
      "foi criado um df de tamanho 2040979\n",
      "foi criado um df de tamanho 2060740\n",
      "foi criado um df de tamanho 2097066\n",
      "foi criado um df de tamanho 2129613\n",
      "foi criado um df de tamanho 2149427\n",
      "foi criado um df de tamanho 2168808\n",
      "My program took 1342.6583161354065 to run\n"
     ]
    }
   ],
   "source": [
    "start_time = time.time()\n",
    "\n",
    "for x in estados:\n",
    "    raispainel2(anos[1],x)\n",
    "    raispainel2(anos[2],x)\n",
    "\n",
    "print(\"My program took\", time.time() - start_time, \"to run\")"
   ]
  },
  {
   "cell_type": "code",
   "execution_count": 35,
   "id": "4d85825f",
   "metadata": {},
   "outputs": [
    {
     "data": {
      "text/plain": [
       "array([2012, 2013], dtype=int64)"
      ]
     },
     "execution_count": 35,
     "metadata": {},
     "output_type": "execute_result"
    }
   ],
   "source": [
    "df.painel.unique()"
   ]
  },
  {
   "cell_type": "markdown",
   "id": "5c6e4b19",
   "metadata": {},
   "source": [
    "# Criando painel 2014"
   ]
  },
  {
   "cell_type": "code",
   "execution_count": 36,
   "id": "f959801e",
   "metadata": {},
   "outputs": [],
   "source": [
    "estados = [\"SP\",\"RJ\",\"BA\",\"MG\",\"PR\"] # estados de interesse\n",
    "anos = [2014,2015,2016] # anos do painel\n",
    "\n",
    "cpfs = []"
   ]
  },
  {
   "cell_type": "code",
   "execution_count": 37,
   "id": "510f2825",
   "metadata": {},
   "outputs": [
    {
     "name": "stdout",
     "output_type": "stream",
     "text": [
      "foi criado um df de tamanho 2461796 e uma lista chamada cpf de tamanho 278440\n",
      "foi criado um df de tamanho 2569095 e uma lista chamada cpf de tamanho 379963\n",
      "foi criado um df de tamanho 2637314 e uma lista chamada cpf de tamanho 442565\n",
      "foi criado um df de tamanho 2766244 e uma lista chamada cpf de tamanho 561916\n",
      "foi criado um df de tamanho 2831618 e uma lista chamada cpf de tamanho 621737\n",
      "My program took 62.76587128639221 to run\n"
     ]
    }
   ],
   "source": [
    "start_time = time.time()\n",
    "\n",
    "for x in estados:\n",
    "    raispainel(anos[0],x)\n",
    "\n",
    "print(\"My program took\", time.time() - start_time, \"to run\")"
   ]
  },
  {
   "cell_type": "code",
   "execution_count": 38,
   "id": "9e390f57",
   "metadata": {},
   "outputs": [
    {
     "name": "stdout",
     "output_type": "stream",
     "text": [
      "foi criado um df de tamanho 2934975\n",
      "foi criado um df de tamanho 3032816\n",
      "foi criado um df de tamanho 3073919\n",
      "foi criado um df de tamanho 3110609\n",
      "foi criado um df de tamanho 3129380\n",
      "foi criado um df de tamanho 3146871\n",
      "foi criado um df de tamanho 3179394\n",
      "foi criado um df de tamanho 3210023\n",
      "foi criado um df de tamanho 3230066\n",
      "foi criado um df de tamanho 3248366\n",
      "My program took 2923.2159395217896 to run\n"
     ]
    }
   ],
   "source": [
    "start_time = time.time()\n",
    "\n",
    "for x in estados:\n",
    "    raispainel2(anos[1],x)\n",
    "    raispainel2(anos[2],x)\n",
    "\n",
    "print(\"My program took\", time.time() - start_time, \"to run\")"
   ]
  },
  {
   "cell_type": "code",
   "execution_count": 40,
   "id": "8b1abb36",
   "metadata": {},
   "outputs": [
    {
     "data": {
      "text/plain": [
       "array([2012, 2013, 2014], dtype=int64)"
      ]
     },
     "execution_count": 40,
     "metadata": {},
     "output_type": "execute_result"
    }
   ],
   "source": [
    "df.painel.unique()"
   ]
  },
  {
   "cell_type": "markdown",
   "id": "793172d3",
   "metadata": {},
   "source": [
    "# Criando painel 2015"
   ]
  },
  {
   "cell_type": "code",
   "execution_count": 41,
   "id": "d86f6d48",
   "metadata": {},
   "outputs": [],
   "source": [
    "estados = [\"SP\",\"RJ\",\"BA\",\"MG\",\"PR\"] # estados de interesse\n",
    "anos = [2015,2016,2017] # anos do painel\n",
    "\n",
    "cpfs = []"
   ]
  },
  {
   "cell_type": "code",
   "execution_count": 42,
   "id": "0010a89b",
   "metadata": {},
   "outputs": [
    {
     "name": "stdout",
     "output_type": "stream",
     "text": [
      "foi criado um df de tamanho 3509726 e uma lista chamada cpf de tamanho 247693\n",
      "foi criado um df de tamanho 3618546 e uma lista chamada cpf de tamanho 350867\n",
      "foi criado um df de tamanho 3685274 e uma lista chamada cpf de tamanho 412012\n",
      "foi criado um df de tamanho 3803427 e uma lista chamada cpf de tamanho 520004\n",
      "foi criado um df de tamanho 3867939 e uma lista chamada cpf de tamanho 577847\n",
      "My program took 87.46789693832397 to run\n"
     ]
    }
   ],
   "source": [
    "start_time = time.time()\n",
    "\n",
    "for x in estados:\n",
    "    raispainel(anos[0],x)\n",
    "\n",
    "print(\"My program took\", time.time() - start_time, \"to run\")"
   ]
  },
  {
   "cell_type": "code",
   "execution_count": 43,
   "id": "bd8e0b29",
   "metadata": {},
   "outputs": [
    {
     "name": "stdout",
     "output_type": "stream",
     "text": [
      "foi criado um df de tamanho 3956405\n",
      "foi criado um df de tamanho 4047273\n",
      "foi criado um df de tamanho 4081109\n",
      "foi criado um df de tamanho 4116188\n",
      "foi criado um df de tamanho 4132559\n",
      "foi criado um df de tamanho 4150269\n",
      "foi criado um df de tamanho 4178518\n",
      "foi criado um df de tamanho 4209044\n",
      "foi criado um df de tamanho 4227154\n",
      "foi criado um df de tamanho 4245036\n",
      "My program took 4745.877126216888 to run\n"
     ]
    }
   ],
   "source": [
    "start_time = time.time()\n",
    "\n",
    "for x in estados:\n",
    "    raispainel2(anos[1],x)\n",
    "    raispainel2(anos[2],x)\n",
    "\n",
    "print(\"My program took\", time.time() - start_time, \"to run\")"
   ]
  },
  {
   "cell_type": "code",
   "execution_count": 45,
   "id": "265bf3b7",
   "metadata": {},
   "outputs": [
    {
     "data": {
      "text/plain": [
       "array([2012, 2013, 2014, 2015], dtype=int64)"
      ]
     },
     "execution_count": 45,
     "metadata": {},
     "output_type": "execute_result"
    }
   ],
   "source": [
    "df.painel.unique()"
   ]
  },
  {
   "cell_type": "markdown",
   "id": "8e95280e",
   "metadata": {},
   "source": [
    "# Criando painel 2016"
   ]
  },
  {
   "cell_type": "code",
   "execution_count": 46,
   "id": "1020ce0f",
   "metadata": {},
   "outputs": [],
   "source": [
    "estados = [\"SP\",\"RJ\",\"BA\",\"MG\",\"PR\"] # estados de interesse\n",
    "anos = [2016,2017,2018] # anos do painel\n",
    "\n",
    "cpfs = []"
   ]
  },
  {
   "cell_type": "code",
   "execution_count": 47,
   "id": "eca362cd",
   "metadata": {},
   "outputs": [
    {
     "name": "stdout",
     "output_type": "stream",
     "text": [
      "foi criado um df de tamanho 4483200 e uma lista chamada cpf de tamanho 223772\n",
      "foi criado um df de tamanho 4574448 e uma lista chamada cpf de tamanho 311132\n",
      "foi criado um df de tamanho 4630729 e uma lista chamada cpf de tamanho 362269\n",
      "foi criado um df de tamanho 4733552 e uma lista chamada cpf de tamanho 454976\n",
      "foi criado um df de tamanho 4791345 e uma lista chamada cpf de tamanho 505990\n",
      "My program took 94.98253560066223 to run\n"
     ]
    }
   ],
   "source": [
    "start_time = time.time()\n",
    "\n",
    "for x in estados:\n",
    "    raispainel(anos[0],x)\n",
    "\n",
    "print(\"My program took\", time.time() - start_time, \"to run\")"
   ]
  },
  {
   "cell_type": "code",
   "execution_count": 48,
   "id": "3241393b",
   "metadata": {},
   "outputs": [
    {
     "name": "stdout",
     "output_type": "stream",
     "text": [
      "foi criado um df de tamanho 4877038\n",
      "foi criado um df de tamanho 4966582\n",
      "foi criado um df de tamanho 4996837\n",
      "foi criado um df de tamanho 5029330\n",
      "foi criado um df de tamanho 5044588\n",
      "foi criado um df de tamanho 5060433\n",
      "foi criado um df de tamanho 5088408\n",
      "foi criado um df de tamanho 5118331\n",
      "foi criado um df de tamanho 5135314\n",
      "foi criado um df de tamanho 5152105\n",
      "My program took 4677.123672008514 to run\n"
     ]
    }
   ],
   "source": [
    "start_time = time.time()\n",
    "\n",
    "for x in estados:\n",
    "    raispainel2(anos[1],x)\n",
    "    raispainel2(anos[2],x)\n",
    "\n",
    "print(\"My program took\", time.time() - start_time, \"to run\")"
   ]
  },
  {
   "cell_type": "code",
   "execution_count": 49,
   "id": "11673373",
   "metadata": {},
   "outputs": [
    {
     "name": "stdout",
     "output_type": "stream",
     "text": [
      "<class 'pandas.core.frame.DataFrame'>\n",
      "Int64Index: 5152105 entries, 0 to 2271248\n",
      "Data columns (total 27 columns):\n",
      " #   Column                   Dtype  \n",
      "---  ------                   -----  \n",
      " 0   CPF                      object \n",
      " 1   Nome Trabalhador         object \n",
      " 2   Município                object \n",
      " 3   CNAE 95 Classe           object \n",
      " 4   Sexo Trabalhador         object \n",
      " 5   Raça Cor                 object \n",
      " 6   Idade                    int64  \n",
      " 7   CNPJ Raiz                object \n",
      " 8   cbo2002                  object \n",
      " 9   cbo_94                   object \n",
      " 10  cnae                     object \n",
      " 11  Vl Salário Contratual    float64\n",
      " 12  Vl Remun Média (SM)      float64\n",
      " 13  Vl Remun Média Nom       float64\n",
      " 14  Vl Remun Dezembro Nom    float64\n",
      " 15  Tipo Vínculo             object \n",
      " 16  Motivo Desligamento      object \n",
      " 17  Mês Desligamento         object \n",
      " 18  Escolaridade após 2005   object \n",
      " 19  Natureza Jurídica        object \n",
      " 20  Data Admissão Declarada  object \n",
      " 21  Tempo Emprego            float64\n",
      " 22  cnae_sub                 object \n",
      " 23  vinc_ativ3112            object \n",
      " 24  Ano                      int64  \n",
      " 25  Estado                   object \n",
      " 26  painel                   int64  \n",
      "dtypes: float64(5), int64(3), object(19)\n",
      "memory usage: 1.1+ GB\n"
     ]
    }
   ],
   "source": [
    "df.info()"
   ]
  },
  {
   "cell_type": "code",
   "execution_count": 50,
   "id": "6d4e5c0c",
   "metadata": {},
   "outputs": [
    {
     "data": {
      "text/plain": [
       "array([2012, 2013, 2014, 2015, 2016], dtype=int64)"
      ]
     },
     "execution_count": 50,
     "metadata": {},
     "output_type": "execute_result"
    }
   ],
   "source": [
    "df.painel.unique()"
   ]
  },
  {
   "cell_type": "markdown",
   "id": "975202d3",
   "metadata": {},
   "source": [
    "## Criando variável \"cnae_odebrecht_2015\""
   ]
  },
  {
   "cell_type": "code",
   "execution_count": 51,
   "id": "3e5d2893",
   "metadata": {},
   "outputs": [],
   "source": [
    "df[\"cnae\"] = df[\"cnae\"].apply(lambda x: str(x)[0:5])"
   ]
  },
  {
   "cell_type": "code",
   "execution_count": 52,
   "id": "72b9efdd",
   "metadata": {},
   "outputs": [
    {
     "data": {
      "text/plain": [
       "0    46931\n",
       "1    41204\n",
       "2    41204\n",
       "3    66223\n",
       "4    41204\n",
       "Name: cnae, dtype: object"
      ]
     },
     "execution_count": 52,
     "metadata": {},
     "output_type": "execute_result"
    }
   ],
   "source": [
    "df[\"cnae\"].head()"
   ]
  },
  {
   "cell_type": "code",
   "execution_count": 53,
   "id": "23822c14",
   "metadata": {},
   "outputs": [],
   "source": [
    "df[\"cnae_odebrecht_2015\"] = df[\"cnae\"].apply(lambda x: 1 if x in cnaes else 0)"
   ]
  },
  {
   "cell_type": "markdown",
   "id": "5f03b4be",
   "metadata": {},
   "source": [
    "## Criando variável \"stem_job\""
   ]
  },
  {
   "cell_type": "code",
   "execution_count": 54,
   "id": "d23f8a01",
   "metadata": {},
   "outputs": [],
   "source": [
    "cbos_stem = \"1223 1236 1237 1413 1425 1426 2011 2012 2021 2030 2031 2032 2033 2034 2111 2112 2122 2123 2124 2131 2132 2133 2134 2140 2142 2143 2144 2145 2146 2147 2148 2149 2211 2212 2221 2222 2341 2342 2343 2344 2513 3001 3003 3011 3012 3111 3112 3115 3121 3122 3123 3161 3171 3172 3180 3181 3182 3183 3185 3186 3187 3201 3212 3253 3951\""
   ]
  },
  {
   "cell_type": "markdown",
   "id": "a48ba792",
   "metadata": {},
   "source": [
    "- A ideia aqui é definir quais empregos são considerados como de Ciência, Tecnologia, Engenharia e Matemática\n",
    "- fonte: (Machado et all 2021) "
   ]
  },
  {
   "cell_type": "code",
   "execution_count": 55,
   "id": "8f5d4f27",
   "metadata": {},
   "outputs": [],
   "source": [
    "cbos_stem = tuple(cbos_stem.split(\" \"))"
   ]
  },
  {
   "cell_type": "code",
   "execution_count": 56,
   "id": "14382f70",
   "metadata": {},
   "outputs": [],
   "source": [
    "df[\"stem_job\"] = df[\"cbo2002\"].apply(lambda x: 1 if x[0:4] in cbos_stem else 0)"
   ]
  },
  {
   "cell_type": "markdown",
   "id": "18297f7b",
   "metadata": {},
   "source": [
    "## Criando variável \"stem_job_2015\""
   ]
  },
  {
   "cell_type": "code",
   "execution_count": 57,
   "id": "d6c336c2",
   "metadata": {},
   "outputs": [],
   "source": [
    "cpfs_stem_2015 = df[(df[\"stem_job\"] == 1) & (df[\"Ano\"] == 2015)].CPF.unique()"
   ]
  },
  {
   "cell_type": "code",
   "execution_count": 58,
   "id": "56500ebd",
   "metadata": {},
   "outputs": [],
   "source": [
    "df[\"stem_job_2015\"] = df[\"CPF\"].apply(lambda x: 1 if x in cpfs_stem_2015 else 0)"
   ]
  },
  {
   "cell_type": "code",
   "execution_count": 59,
   "id": "e6d4a853",
   "metadata": {
    "scrolled": true
   },
   "outputs": [
    {
     "data": {
      "text/plain": [
       "array([2012, 2013, 2014, 2015, 2016, 2017, 2018], dtype=int64)"
      ]
     },
     "execution_count": 59,
     "metadata": {},
     "output_type": "execute_result"
    }
   ],
   "source": [
    "df.query(\"stem_job_2015 == 1\").Ano.unique()"
   ]
  },
  {
   "cell_type": "code",
   "execution_count": 60,
   "id": "9b5647f4",
   "metadata": {},
   "outputs": [
    {
     "data": {
      "text/plain": [
       "179067"
      ]
     },
     "execution_count": 60,
     "metadata": {},
     "output_type": "execute_result"
    }
   ],
   "source": [
    "len(df.query(\"stem_job_2015 == 1 & Ano != 2015\"))"
   ]
  },
  {
   "cell_type": "markdown",
   "id": "3da7d085",
   "metadata": {},
   "source": [
    "## Criando variável \"odebrecht\""
   ]
  },
  {
   "cell_type": "code",
   "execution_count": 61,
   "id": "1f6ffb27",
   "metadata": {},
   "outputs": [],
   "source": [
    "cnpjs_odebrecht = tuple(ode_cam.query(\"grupo == 'odebrecht'\").cnpj_limpo)"
   ]
  },
  {
   "cell_type": "code",
   "execution_count": 62,
   "id": "787a8967",
   "metadata": {},
   "outputs": [],
   "source": [
    "df[\"odebrecht\"] = df[\"CNPJ Raiz\"].apply(lambda x: 1 if x in cnpjs_odebrecht else 0)"
   ]
  },
  {
   "cell_type": "markdown",
   "id": "acb26bab",
   "metadata": {},
   "source": [
    "## Criando variável \"odebrecht_2015\""
   ]
  },
  {
   "cell_type": "code",
   "execution_count": 64,
   "id": "5d2ee0f5",
   "metadata": {},
   "outputs": [],
   "source": [
    "cpfs_odebrecht = df[(df[\"odebrecht\"] == 1) & (df[\"Ano\"] == 2015)].CPF.unique()"
   ]
  },
  {
   "cell_type": "code",
   "execution_count": 65,
   "id": "9a3f9228",
   "metadata": {},
   "outputs": [],
   "source": [
    "df[\"odebrecht_2015\"] = df[\"CPF\"].apply(lambda x: 1 if x in cpfs_odebrecht else 0)"
   ]
  },
  {
   "cell_type": "code",
   "execution_count": 66,
   "id": "30197d38",
   "metadata": {},
   "outputs": [
    {
     "data": {
      "text/plain": [
       "array([2012, 2013, 2014, 2015, 2016, 2017, 2018], dtype=int64)"
      ]
     },
     "execution_count": 66,
     "metadata": {},
     "output_type": "execute_result"
    }
   ],
   "source": [
    "df.query(\"odebrecht_2015 == 1\").Ano.unique()"
   ]
  },
  {
   "cell_type": "code",
   "execution_count": 67,
   "id": "9493a9d5",
   "metadata": {},
   "outputs": [
    {
     "data": {
      "text/plain": [
       "19605"
      ]
     },
     "execution_count": 67,
     "metadata": {},
     "output_type": "execute_result"
    }
   ],
   "source": [
    "len(df.query(\"odebrecht_2015 == 1 & Ano == 2015\"))"
   ]
  },
  {
   "cell_type": "markdown",
   "id": "67a16fbd",
   "metadata": {},
   "source": [
    "## Saving"
   ]
  },
  {
   "cell_type": "code",
   "execution_count": 68,
   "id": "3dbc917e",
   "metadata": {},
   "outputs": [],
   "source": [
    "df.loc[(df['vinc_ativ3112'] == ' 1') |\n",
    "       (df['vinc_ativ3112'] == '1')  |\n",
    "       (df['vinc_ativ3112'] == 'True'), 'vinc_ativ3112'] = 1"
   ]
  },
  {
   "cell_type": "code",
   "execution_count": 69,
   "id": "78624901",
   "metadata": {},
   "outputs": [
    {
     "data": {
      "text/plain": [
       "array([0, 1], dtype=object)"
      ]
     },
     "execution_count": 69,
     "metadata": {},
     "output_type": "execute_result"
    }
   ],
   "source": [
    "df[\"vinc_ativ3112\"].unique()"
   ]
  },
  {
   "cell_type": "code",
   "execution_count": 70,
   "id": "d25a9771",
   "metadata": {},
   "outputs": [],
   "source": [
    "df.to_csv(\"Dados/Output/220517_all_panel_cnae.csv\", sep = \";\", index = False, encoding = \"utf-8-sig\")"
   ]
  },
  {
   "cell_type": "markdown",
   "id": "abbb2000",
   "metadata": {},
   "source": [
    "# Abrindo e Limpando a Base"
   ]
  },
  {
   "cell_type": "code",
   "execution_count": 71,
   "id": "b2a51176",
   "metadata": {
    "scrolled": true
   },
   "outputs": [],
   "source": [
    "df = pd.read_csv(\"Dados/Output/220517_all_panel_cnae.csv\", sep = \";\", dtype = {'CPF': str, 'CNPJ Raiz': str, 'CBO Ocupação 2002': str, 'Data Admissão Declarada': str, 'cnae': str, \"Vínculo Ativo 31 12\": str})"
   ]
  },
  {
   "cell_type": "code",
   "execution_count": 72,
   "id": "6d6f9776",
   "metadata": {},
   "outputs": [
    {
     "data": {
      "text/plain": [
       "2440241"
      ]
     },
     "execution_count": 72,
     "metadata": {},
     "output_type": "execute_result"
    }
   ],
   "source": [
    "len(df.CPF.unique())"
   ]
  },
  {
   "cell_type": "code",
   "execution_count": 73,
   "id": "c68a520b",
   "metadata": {
    "scrolled": true
   },
   "outputs": [
    {
     "name": "stdout",
     "output_type": "stream",
     "text": [
      "<class 'pandas.core.frame.DataFrame'>\n",
      "RangeIndex: 5152105 entries, 0 to 5152104\n",
      "Data columns (total 32 columns):\n",
      " #   Column                   Dtype  \n",
      "---  ------                   -----  \n",
      " 0   CPF                      object \n",
      " 1   Nome Trabalhador         object \n",
      " 2   Município                int64  \n",
      " 3   CNAE 95 Classe           int64  \n",
      " 4   Sexo Trabalhador         int64  \n",
      " 5   Raça Cor                 int64  \n",
      " 6   Idade                    int64  \n",
      " 7   CNPJ Raiz                object \n",
      " 8   cbo2002                  object \n",
      " 9   cbo_94                   object \n",
      " 10  cnae                     object \n",
      " 11  Vl Salário Contratual    float64\n",
      " 12  Vl Remun Média (SM)      float64\n",
      " 13  Vl Remun Média Nom       float64\n",
      " 14  Vl Remun Dezembro Nom    float64\n",
      " 15  Tipo Vínculo             int64  \n",
      " 16  Motivo Desligamento      int64  \n",
      " 17  Mês Desligamento         int64  \n",
      " 18  Escolaridade após 2005   int64  \n",
      " 19  Natureza Jurídica        int64  \n",
      " 20  Data Admissão Declarada  object \n",
      " 21  Tempo Emprego            float64\n",
      " 22  cnae_sub                 int64  \n",
      " 23  vinc_ativ3112            object \n",
      " 24  Ano                      int64  \n",
      " 25  Estado                   object \n",
      " 26  painel                   int64  \n",
      " 27  cnae_odebrecht_2015      int64  \n",
      " 28  stem_job                 int64  \n",
      " 29  stem_job_2015            int64  \n",
      " 30  odebrecht                int64  \n",
      " 31  odebrecht_2015           int64  \n",
      "dtypes: float64(5), int64(18), object(9)\n",
      "memory usage: 1.2+ GB\n"
     ]
    }
   ],
   "source": [
    "df.info()"
   ]
  },
  {
   "cell_type": "code",
   "execution_count": 74,
   "id": "2418da00",
   "metadata": {},
   "outputs": [
    {
     "data": {
      "text/plain": [
       "1951016"
      ]
     },
     "execution_count": 74,
     "metadata": {},
     "output_type": "execute_result"
    }
   ],
   "source": [
    "len(df[df[\"vinc_ativ3112\"] == 1])"
   ]
  },
  {
   "cell_type": "code",
   "execution_count": 75,
   "id": "ef11c7e5",
   "metadata": {},
   "outputs": [
    {
     "data": {
      "text/plain": [
       "1951016"
      ]
     },
     "execution_count": 75,
     "metadata": {},
     "output_type": "execute_result"
    }
   ],
   "source": [
    "len(df[df[\"vinc_ativ3112\"] == True])"
   ]
  },
  {
   "cell_type": "code",
   "execution_count": 76,
   "id": "cdafbf5d",
   "metadata": {},
   "outputs": [
    {
     "data": {
      "text/plain": [
       "array([0, 1, '1', 'True', 'False'], dtype=object)"
      ]
     },
     "execution_count": 76,
     "metadata": {},
     "output_type": "execute_result"
    }
   ],
   "source": [
    "df[\"vinc_ativ3112\"].unique()"
   ]
  },
  {
   "cell_type": "code",
   "execution_count": 77,
   "id": "023e3a08",
   "metadata": {},
   "outputs": [],
   "source": [
    "df.loc[(df['vinc_ativ3112'] == ' 1') |\n",
    "       (df['vinc_ativ3112'] == '1')  |\n",
    "       (df['vinc_ativ3112'] == 'True'), 'vinc_ativ3112'] = 1"
   ]
  },
  {
   "cell_type": "code",
   "execution_count": 78,
   "id": "f6eefc08",
   "metadata": {},
   "outputs": [],
   "source": [
    "df.loc[(df['vinc_ativ3112'] == ' 0') |\n",
    "       (df['vinc_ativ3112'] == '0')  |\n",
    "       (df['vinc_ativ3112'] == 'False'), 'vinc_ativ3112'] = 0"
   ]
  },
  {
   "cell_type": "code",
   "execution_count": 79,
   "id": "79cc8f85",
   "metadata": {},
   "outputs": [
    {
     "data": {
      "text/plain": [
       "array([0, 1], dtype=object)"
      ]
     },
     "execution_count": 79,
     "metadata": {},
     "output_type": "execute_result"
    }
   ],
   "source": [
    "df[\"vinc_ativ3112\"].unique()"
   ]
  },
  {
   "cell_type": "code",
   "execution_count": 80,
   "id": "8fd8cd7b",
   "metadata": {},
   "outputs": [],
   "source": [
    "df['cbo2002'] = df['cbo2002'].str.replace('\\W', '')"
   ]
  },
  {
   "cell_type": "code",
   "execution_count": 81,
   "id": "77b12e78",
   "metadata": {},
   "outputs": [],
   "source": [
    "df.rename(columns={\"painel\": \"coorte\"}, inplace = True)"
   ]
  },
  {
   "cell_type": "code",
   "execution_count": 82,
   "id": "8f5276cf",
   "metadata": {},
   "outputs": [],
   "source": [
    "df[\"cnae\"] = df[\"cnae\"].apply(lambda x: str(x)[0:5])"
   ]
  },
  {
   "cell_type": "markdown",
   "id": "e461d12c",
   "metadata": {},
   "source": [
    "# Criando Grupos Econômicos"
   ]
  },
  {
   "cell_type": "markdown",
   "id": "fc7cb562",
   "metadata": {},
   "source": [
    "## Criando Dummy \"Odebrecht\""
   ]
  },
  {
   "cell_type": "code",
   "execution_count": 84,
   "id": "fa452824",
   "metadata": {},
   "outputs": [],
   "source": [
    "cnpjs_odebrecht = tuple(ode_cam.query(\"grupo == 'odebrecht'\").cnpj_limpo)"
   ]
  },
  {
   "cell_type": "code",
   "execution_count": 85,
   "id": "7254a417",
   "metadata": {},
   "outputs": [],
   "source": [
    "df[\"Odebrecht\"] = df[\"CNPJ Raiz\"].apply(lambda x: 1 if x in cnpjs_odebrecht else 0)"
   ]
  },
  {
   "cell_type": "markdown",
   "id": "4188d0a6",
   "metadata": {},
   "source": [
    "## Criar Dummy Camargo Correa"
   ]
  },
  {
   "cell_type": "code",
   "execution_count": 88,
   "id": "e7aae41e",
   "metadata": {},
   "outputs": [],
   "source": [
    "cnpjs_camargo = tuple(ode_cam.query(\"grupo == 'camargo'\").cnpj_limpo)"
   ]
  },
  {
   "cell_type": "code",
   "execution_count": 89,
   "id": "fe5055ab",
   "metadata": {},
   "outputs": [],
   "source": [
    "df[\"Camargo\"] = df[\"CNPJ Raiz\"].apply(lambda x: 1 if x in cnpjs_camargo else 0)"
   ]
  },
  {
   "cell_type": "markdown",
   "id": "d2d30f30",
   "metadata": {},
   "source": [
    "# Gerando variável \"empreendedor\""
   ]
  },
  {
   "cell_type": "markdown",
   "id": "82096f71",
   "metadata": {},
   "source": [
    "# Gerando variável \"CEO_LT\""
   ]
  },
  {
   "cell_type": "markdown",
   "id": "ad2b5598",
   "metadata": {},
   "source": [
    "- Aqui vou gerar a principal variável de CEO, com base em (Hirakawa et al, 2010)"
   ]
  },
  {
   "cell_type": "markdown",
   "id": "1bc9385f",
   "metadata": {},
   "source": [
    "## Pegar CBOs de \"directors\" ou \"managers\""
   ]
  },
  {
   "cell_type": "code",
   "execution_count": 91,
   "id": "8ff9f767",
   "metadata": {},
   "outputs": [],
   "source": [
    "cbos_1994 = pd.read_csv(\"Dados/Input/cbo-isco-conc.csv\", sep = \",\", dtype ='str',  encoding='latin-1')"
   ]
  },
  {
   "cell_type": "markdown",
   "id": "d8502df9",
   "metadata": {},
   "source": [
    "- Tabela de Marc Muendler disponível em: https://econweb.ucsd.edu/muendler/html/brazil.html#brazoccu\n",
    "    - Metodologia: (Muendler, 2004, p.16)"
   ]
  },
  {
   "cell_type": "code",
   "execution_count": 92,
   "id": "e5f60bfc",
   "metadata": {},
   "outputs": [],
   "source": [
    "cbos_1994 = cbos_1994.dropna()"
   ]
  },
  {
   "cell_type": "code",
   "execution_count": 93,
   "id": "3249c6b7",
   "metadata": {},
   "outputs": [],
   "source": [
    "cbos_1994_managers = cbos_1994.loc[cbos_1994.cbotrans.str.contains('Manager', case = False)]"
   ]
  },
  {
   "cell_type": "code",
   "execution_count": 94,
   "id": "671848d3",
   "metadata": {},
   "outputs": [],
   "source": [
    "cbos_1994_directors = cbos_1994.loc[cbos_1994.cbotrans.str.contains('Director', case = False)]"
   ]
  },
  {
   "cell_type": "code",
   "execution_count": 95,
   "id": "d5394341",
   "metadata": {},
   "outputs": [
    {
     "data": {
      "text/plain": [
       "54"
      ]
     },
     "execution_count": 95,
     "metadata": {},
     "output_type": "execute_result"
    }
   ],
   "source": [
    "len(cbos_1994_managers)"
   ]
  },
  {
   "cell_type": "code",
   "execution_count": 96,
   "id": "e3177d7e",
   "metadata": {},
   "outputs": [
    {
     "data": {
      "text/plain": [
       "46"
      ]
     },
     "execution_count": 96,
     "metadata": {},
     "output_type": "execute_result"
    }
   ],
   "source": [
    "len(cbos_1994_directors)"
   ]
  },
  {
   "cell_type": "code",
   "execution_count": 97,
   "id": "549cb95a",
   "metadata": {},
   "outputs": [],
   "source": [
    "cbos_1994_managers['CBO94'] = cbos_1994_managers['cboid'].str.replace('\\W', '')"
   ]
  },
  {
   "cell_type": "code",
   "execution_count": 98,
   "id": "c7687c8f",
   "metadata": {},
   "outputs": [],
   "source": [
    "cbos_1994_directors['CBO94'] = cbos_1994_directors['cboid'].str.replace('\\W', '')"
   ]
  },
  {
   "cell_type": "markdown",
   "id": "44a7c03d",
   "metadata": {},
   "source": [
    "## Conversao CBOs 94 para 2002"
   ]
  },
  {
   "cell_type": "markdown",
   "id": "26236e3a",
   "metadata": {},
   "source": [
    "- Com base em Ricardo Dahis: https://github.com/rdahis/clean_RAIS/tree/master/RAIS/extra/CBO/conversao%2094-02"
   ]
  },
  {
   "cell_type": "code",
   "execution_count": 99,
   "id": "42a0d16b",
   "metadata": {},
   "outputs": [],
   "source": [
    "cbos_2002_managers_directors = pd.read_csv(\"Dados\\Input\\CBO94 - CBO2002 - Conversao com 90.csv\", sep = \";\", dtype ='str')"
   ]
  },
  {
   "cell_type": "code",
   "execution_count": 100,
   "id": "22778117",
   "metadata": {},
   "outputs": [
    {
     "name": "stdout",
     "output_type": "stream",
     "text": [
      "<class 'pandas.core.frame.DataFrame'>\n",
      "RangeIndex: 3897 entries, 0 to 3896\n",
      "Data columns (total 2 columns):\n",
      " #   Column   Non-Null Count  Dtype \n",
      "---  ------   --------------  ----- \n",
      " 0   CBO94    3897 non-null   object\n",
      " 1   CBO2002  3897 non-null   object\n",
      "dtypes: object(2)\n",
      "memory usage: 61.0+ KB\n"
     ]
    }
   ],
   "source": [
    "cbos_2002_managers_directors.info()"
   ]
  },
  {
   "cell_type": "code",
   "execution_count": 101,
   "id": "946d17a7",
   "metadata": {},
   "outputs": [
    {
     "data": {
      "text/html": [
       "<div>\n",
       "<style scoped>\n",
       "    .dataframe tbody tr th:only-of-type {\n",
       "        vertical-align: middle;\n",
       "    }\n",
       "\n",
       "    .dataframe tbody tr th {\n",
       "        vertical-align: top;\n",
       "    }\n",
       "\n",
       "    .dataframe thead th {\n",
       "        text-align: right;\n",
       "    }\n",
       "</style>\n",
       "<table border=\"1\" class=\"dataframe\">\n",
       "  <thead>\n",
       "    <tr style=\"text-align: right;\">\n",
       "      <th></th>\n",
       "      <th>CBO94</th>\n",
       "      <th>CBO2002</th>\n",
       "    </tr>\n",
       "  </thead>\n",
       "  <tbody>\n",
       "    <tr>\n",
       "      <th>0</th>\n",
       "      <td>X4010</td>\n",
       "      <td>020105</td>\n",
       "    </tr>\n",
       "    <tr>\n",
       "      <th>1</th>\n",
       "      <td>X4020</td>\n",
       "      <td>020205</td>\n",
       "    </tr>\n",
       "    <tr>\n",
       "      <th>2</th>\n",
       "      <td>X4030</td>\n",
       "      <td>021105</td>\n",
       "    </tr>\n",
       "    <tr>\n",
       "      <th>3</th>\n",
       "      <td>X4040</td>\n",
       "      <td>021210</td>\n",
       "    </tr>\n",
       "    <tr>\n",
       "      <th>4</th>\n",
       "      <td>X5010</td>\n",
       "      <td>010110</td>\n",
       "    </tr>\n",
       "  </tbody>\n",
       "</table>\n",
       "</div>"
      ],
      "text/plain": [
       "   CBO94 CBO2002\n",
       "0  X4010  020105\n",
       "1  X4020  020205\n",
       "2  X4030  021105\n",
       "3  X4040  021210\n",
       "4  X5010  010110"
      ]
     },
     "execution_count": 101,
     "metadata": {},
     "output_type": "execute_result"
    }
   ],
   "source": [
    "cbos_2002_managers_directors.head()"
   ]
  },
  {
   "cell_type": "markdown",
   "id": "d3d0aeb3",
   "metadata": {},
   "source": [
    "## Juntando bases"
   ]
  },
  {
   "cell_type": "code",
   "execution_count": 103,
   "id": "b5cce391",
   "metadata": {},
   "outputs": [],
   "source": [
    "cbos_2002_managers = cbos_2002_managers_directors.merge(cbos_1994_managers, on='CBO94', how='inner')"
   ]
  },
  {
   "cell_type": "code",
   "execution_count": 104,
   "id": "96195545",
   "metadata": {
    "scrolled": true
   },
   "outputs": [
    {
     "data": {
      "text/plain": [
       "170"
      ]
     },
     "execution_count": 104,
     "metadata": {},
     "output_type": "execute_result"
    }
   ],
   "source": [
    "len(cbos_2002_managers)"
   ]
  },
  {
   "cell_type": "code",
   "execution_count": 105,
   "id": "253fc15e",
   "metadata": {},
   "outputs": [],
   "source": [
    "cbos_2002_directors = cbos_2002_managers_directors.merge(cbos_1994_directors, on='CBO94', how='inner')"
   ]
  },
  {
   "cell_type": "code",
   "execution_count": 106,
   "id": "c8976dc0",
   "metadata": {},
   "outputs": [
    {
     "data": {
      "text/plain": [
       "80"
      ]
     },
     "execution_count": 106,
     "metadata": {},
     "output_type": "execute_result"
    }
   ],
   "source": [
    "len(cbos_2002_directors)"
   ]
  },
  {
   "cell_type": "code",
   "execution_count": 107,
   "id": "7681aa73",
   "metadata": {},
   "outputs": [],
   "source": [
    "df[\"cbo_2002_manager\"] = df[\"cbo2002\"].apply(lambda x: 1 if x in list(cbos_2002_managers.CBO2002.unique()) else 0)"
   ]
  },
  {
   "cell_type": "code",
   "execution_count": 108,
   "id": "a2cb9460",
   "metadata": {},
   "outputs": [
    {
     "data": {
      "text/plain": [
       "array([2012, 2013, 2014, 2015, 2016, 2017, 2018], dtype=int64)"
      ]
     },
     "execution_count": 108,
     "metadata": {},
     "output_type": "execute_result"
    }
   ],
   "source": [
    "df.query(\"cbo_2002_manager == 1\").Ano.unique()"
   ]
  },
  {
   "cell_type": "code",
   "execution_count": 109,
   "id": "05ba1403",
   "metadata": {},
   "outputs": [
    {
     "data": {
      "text/plain": [
       "0.1712621827106421"
      ]
     },
     "execution_count": 109,
     "metadata": {},
     "output_type": "execute_result"
    }
   ],
   "source": [
    "len(df.query(\"cbo_2002_manager == 1\").CPF.unique()) / len(df.CPF.unique())"
   ]
  },
  {
   "cell_type": "code",
   "execution_count": 112,
   "id": "d6769b6f",
   "metadata": {},
   "outputs": [],
   "source": [
    "df[\"cbo_2002_director\"] = df[\"cbo2002\"].apply(lambda x: 1 if x in list(cbos_2002_directors.CBO2002.unique()) else 0)"
   ]
  },
  {
   "cell_type": "code",
   "execution_count": 113,
   "id": "bf486303",
   "metadata": {},
   "outputs": [
    {
     "data": {
      "text/plain": [
       "array([2012, 2013, 2014, 2015, 2016, 2017, 2018], dtype=int64)"
      ]
     },
     "execution_count": 113,
     "metadata": {},
     "output_type": "execute_result"
    }
   ],
   "source": [
    "df.query(\"cbo_2002_director == 1\").Ano.unique()"
   ]
  },
  {
   "cell_type": "code",
   "execution_count": 114,
   "id": "f90c8188",
   "metadata": {},
   "outputs": [
    {
     "data": {
      "text/plain": [
       "0.042908466827661695"
      ]
     },
     "execution_count": 114,
     "metadata": {},
     "output_type": "execute_result"
    }
   ],
   "source": [
    "len(df.query(\"cbo_2002_director == 1\").CPF.unique()) / len(df.CPF.unique())"
   ]
  },
  {
   "cell_type": "markdown",
   "id": "ecbb3bd1",
   "metadata": {},
   "source": [
    "# Salvando"
   ]
  },
  {
   "cell_type": "code",
   "execution_count": 117,
   "id": "8f58e597",
   "metadata": {},
   "outputs": [],
   "source": [
    "df.to_csv(\"Dados/Output/220517_all_panel_cnae_ceo.csv\", sep = \";\", index = False, encoding = \"utf-8-sig\")"
   ]
  },
  {
   "cell_type": "markdown",
   "id": "4798b299",
   "metadata": {},
   "source": [
    "# Criando Tabela Sum Statiscs"
   ]
  },
  {
   "cell_type": "code",
   "execution_count": 131,
   "id": "a5219c3b",
   "metadata": {},
   "outputs": [],
   "source": [
    "df.rename(columns={\"Escolaridade após 2005\": \"estudo\", \"CNPJ Raiz\": \"cnpj\"}, inplace = True)"
   ]
  },
  {
   "cell_type": "code",
   "execution_count": 137,
   "id": "3aa3c8bd",
   "metadata": {},
   "outputs": [],
   "source": [
    "def sumstats(ano):\n",
    "    global tabela\n",
    "    cpfs_odebrecht = df[(df[\"Odebrecht\"] == 1) & (df[\"Ano\"] == ano)].CPF.unique()\n",
    "    \n",
    "    cpfs_camargo = df[(df[\"Camargo\"] == 1) & (df[\"Ano\"] == ano)].CPF.unique()\n",
    "    \n",
    "    n_entrepreneur_odebrecht = len(df.query(\"CPF in @cpfs_odebrecht\")[\n",
    "                                                                      (df[\"coorte\"] == ano) &\n",
    "                                                                      (df[\"cbo_2002_director\"] == 1) &\n",
    "                                                                      (df[\"Odebrecht\"] == 0) &\n",
    "                                                                      (df[\"Camargo\"] == 0)].CPF.unique())\n",
    "    n_entrepreneur_camargo = len(df.query(\"CPF in @cpfs_camargo\")[\n",
    "                                                                  (df[\"coorte\"] == ano) &\n",
    "                                                                  (df[\"cbo_2002_director\"] == 1) &\n",
    "                                                                  (df[\"Odebrecht\"] == 0) &\n",
    "                                                                  (df[\"Camargo\"] == 0)].CPF.unique())\n",
    "    \n",
    "    n_bluecollar_odebrecht = len(df.query(\"CPF in @cpfs_odebrecht\")[(df[\"cbo_2002_director\"] == 0) &\n",
    "                                                                    (df[\"coorte\"] == ano) &\n",
    "                                                                    (df[\"Odebrecht\"] == 0)].CPF.unique())\n",
    "\n",
    "    n_bluecollar_camargo = len(df.query(\"CPF in @cpfs_camargo\")[(df[\"cbo_2002_director\"] == 0) &\n",
    "                                                                (df[\"coorte\"] == ano) &\n",
    "                                                                (df[\"Camargo\"] == 0)].CPF.unique())\n",
    "    \n",
    "    perc_entrepreneur_odebrecht = round((n_entrepreneur_odebrecht / (n_entrepreneur_odebrecht + n_bluecollar_odebrecht))*100, 2) \n",
    "    perc_entrepreneur_camargo = round((n_entrepreneur_camargo / (n_entrepreneur_camargo + n_bluecollar_camargo))*100, 2)\n",
    "    perc_bluecollar_odebrecht = 100 - perc_entrepreneur_odebrecht\n",
    "    perc_bluecollar_camargo = 100 - perc_entrepreneur_camargo\n",
    "    \n",
    "    study_entrepreneur_odebrecht = round(df.query(\"CPF in @cpfs_odebrecht\")[\n",
    "                                                                            (df[\"coorte\"] == ano) &\n",
    "                                                                            (df[\"cbo_2002_director\"] == 1) &\n",
    "                                                                            (df[\"Odebrecht\"] == 0) &\n",
    "                                                                            (df[\"Camargo\"] == 0)].estudo.median(),2)\n",
    "    \n",
    "    study_entrepreneur_camargo = round(df.query(\"CPF in @cpfs_camargo\")[\n",
    "                                                                        (df[\"coorte\"] == ano) &\n",
    "                                                                        (df[\"cbo_2002_director\"] == 1) &\n",
    "                                                                        (df[\"Odebrecht\"] == 0) &\n",
    "                                                                        (df[\"Camargo\"] == 0)].estudo.median(),2)\n",
    "    \n",
    "    study_bluecollar_odebrecht = round(df.query(\"CPF in @cpfs_odebrecht\")[(df[\"cbo_2002_director\"] == 0) &\n",
    "                                                                          (df[\"coorte\"] == ano) &\n",
    "                                                                          (df[\"Odebrecht\"] == 0)].estudo.median(),2)\n",
    "    \n",
    "    study_bluecollar_camargo = round(df.query(\"CPF in @cpfs_camargo\")[(df[\"cbo_2002_director\"] == 0) &\n",
    "                                                                      (df[\"coorte\"] == ano) &\n",
    "                                                                      (df[\"Camargo\"] == 0)].estudo.median(),2)\n",
    "    \n",
    "    age_entrepreneur_odebrecht = round(df.query(\"CPF in @cpfs_odebrecht\")[\n",
    "                                                                          (df[\"coorte\"] == ano) &\n",
    "                                                                          (df[\"cbo_2002_director\"] == 1) &\n",
    "                                                                          (df[\"Odebrecht\"] == 0) &\n",
    "                                                                          (df[\"Camargo\"] == 0)].Idade.mean(),2)\n",
    "     \n",
    "    age_entrepreneur_camargo = round(df.query(\"CPF in @cpfs_camargo\")[\n",
    "                                                                      (df[\"coorte\"] == ano) &\n",
    "                                                                      (df[\"cbo_2002_director\"] == 1) &\n",
    "                                                                      (df[\"Odebrecht\"] == 0) &\n",
    "                                                                      (df[\"Camargo\"] == 0)].Idade.mean(),2)\n",
    "    \n",
    "    age_bluecollar_odebrecht = round(df.query(\"CPF in @cpfs_odebrecht\")[(df[\"cbo_2002_director\"] == 0) &\n",
    "                                                                        (df[\"coorte\"] == ano) &\n",
    "                                                                        (df[\"Odebrecht\"] == 0)].Idade.mean(),2)\n",
    "    \n",
    "    age_bluecollar_camargo = round(df.query(\"CPF in @cpfs_camargo\")[(df[\"cbo_2002_director\"] == 0) &\n",
    "                                                                    (df[\"coorte\"] == ano) &\n",
    "                                                                    (df[\"Camargo\"] == 0)].Idade.mean(),2)\n",
    "    \n",
    "    tenure_entrepreneur_odebrecht_cpfs = df.query(\"CPF in @cpfs_odebrecht\")[\n",
    "                                                                            (df[\"coorte\"] == ano) &\n",
    "                                                                            (df[\"cbo_2002_director\"] == 1) &\n",
    "                                                                            (df[\"Odebrecht\"] == 0) &\n",
    "                                                                            (df[\"Camargo\"] == 0)].CPF.unique()\n",
    "    \n",
    "    tenure_entrepreneur_odebrecht = round(df.query(f\"CPF in @tenure_entrepreneur_odebrecht_cpfs & Ano == {ano} & cnpj in @cnpjs_odebrecht\")[\"Tempo Emprego\"].mean(),2)\n",
    "    \n",
    "    tenure_bluecollar_odebrecht_cpfs = df.query(\"CPF in @cpfs_odebrecht\")[(df[\"cbo_2002_director\"] == 0) &\n",
    "                                                                          (df[\"coorte\"] == ano) &\n",
    "                                                                          (df[\"Odebrecht\"] == 0)].CPF.unique()\n",
    "    \n",
    "    tenure_bluecollar_odebrecht = round(df.query(f\"CPF in @tenure_bluecollar_odebrecht_cpfs & Ano == {ano} & cnpj in @cnpjs_odebrecht\")[\"Tempo Emprego\"].mean(),2)\n",
    "    \n",
    "    tenure_entrepreneur_camargo_cpfs = df.query(\"CPF in @cpfs_camargo\")[\n",
    "                                                                        (df[\"coorte\"] == ano) &\n",
    "                                                                        (df[\"cbo_2002_director\"] == 1) &\n",
    "                                                                        (df[\"Odebrecht\"] == 0) &\n",
    "                                                                        (df[\"Camargo\"] == 0)].CPF.unique()\n",
    "    \n",
    "    tenure_entrepreneur_camargo = round(df.query(f\"CPF in @tenure_entrepreneur_camargo_cpfs & Ano == {ano} & cnpj in @cnpjs_camargo\")[\"Tempo Emprego\"].mean(),2)\n",
    "    \n",
    "    tenure_bluecollar_camargo_cpfs = df.query(\"CPF in @cpfs_camargo\")[(df[\"cbo_2002_director\"] == 0) &\n",
    "                                                                      (df[\"coorte\"] == ano) &\n",
    "                                                                      (df[\"Odebrecht\"] == 0)].CPF.unique()\n",
    "    \n",
    "    tenure_bluecollar_camargo = round(df.query(f\"CPF in @tenure_bluecollar_camargo_cpfs & Ano == {ano} & cnpj in @cnpjs_camargo\")[\"Tempo Emprego\"].mean(),2)\n",
    "    \n",
    "    data = {'Stats_{}'.format(ano): ['N', '%', 'Schooling(median)', 'Age(mean)', 'Tenure(months_mean)'],\n",
    "        'Entrepreneurs_Odebrecht':[n_entrepreneur_odebrecht, perc_entrepreneur_odebrecht, study_entrepreneur_odebrecht, age_entrepreneur_odebrecht, tenure_entrepreneur_odebrecht],\n",
    "        'Bluecollar_Odebrecht':[n_bluecollar_odebrecht, perc_bluecollar_odebrecht, study_bluecollar_odebrecht, age_bluecollar_odebrecht, tenure_bluecollar_odebrecht],\n",
    "        'Entrepreneurs_Camargo':[n_entrepreneur_camargo, perc_entrepreneur_camargo, study_entrepreneur_camargo, age_entrepreneur_camargo, tenure_entrepreneur_camargo],\n",
    "        'Bluecollar_Camargo':[n_bluecollar_camargo, perc_bluecollar_camargo, study_bluecollar_camargo, age_bluecollar_camargo, tenure_bluecollar_camargo]}\n",
    "    \n",
    "    tabela = pd.DataFrame(data)\n",
    "    tabela.set_index(\"Stats_{}\".format(ano), inplace = True)\n",
    "    \n",
    "    \n",
    "    print(f\"A tabela é referente aos funcionários que deixaram a Odebrecht ou a Camargo Corrêa em {ano} e que até o fim de {ano + 2} criaram novas empresas ('entrepreneurs') ou foram contratados por outras empresas fora do grupo econômico de sua empregadora de {ano} ('blue collar')\")\n",
    "    \n",
    "    print(tabela)"
   ]
  },
  {
   "cell_type": "code",
   "execution_count": 138,
   "id": "a3bc8b30",
   "metadata": {},
   "outputs": [
    {
     "name": "stdout",
     "output_type": "stream",
     "text": [
      "A tabela é referente aos funcionários que deixaram a Odebrecht ou a Camargo Corrêa em 2012 e que até o fim de 2014 criaram novas empresas ('entrepreneurs') ou foram contratados por outras empresas fora do grupo econômico de sua empregadora de 2012 ('blue collar')\n",
      "                     Entrepreneurs_Odebrecht  Bluecollar_Odebrecht  \\\n",
      "Stats_2012                                                           \n",
      "N                                     331.00               4769.00   \n",
      "%                                       6.49                 93.51   \n",
      "Schooling(median)                       7.00                  7.00   \n",
      "Age(mean)                              39.32                 33.54   \n",
      "Tenure(months_mean)                    16.97                 13.66   \n",
      "\n",
      "                     Entrepreneurs_Camargo  Bluecollar_Camargo  \n",
      "Stats_2012                                                      \n",
      "N                                    83.00              773.00  \n",
      "%                                     9.70               90.30  \n",
      "Schooling(median)                     8.00                9.00  \n",
      "Age(mean)                            40.87               34.52  \n",
      "Tenure(months_mean)                  41.52               27.43  \n"
     ]
    }
   ],
   "source": [
    "sumstats(2012)"
   ]
  },
  {
   "cell_type": "code",
   "execution_count": 139,
   "id": "be581d8c",
   "metadata": {},
   "outputs": [
    {
     "name": "stdout",
     "output_type": "stream",
     "text": [
      "A tabela é referente aos funcionários que deixaram a Odebrecht ou a Camargo Corrêa em 2013 e que até o fim de 2015 criaram novas empresas ('entrepreneurs') ou foram contratados por outras empresas fora do grupo econômico de sua empregadora de 2013 ('blue collar')\n",
      "                     Entrepreneurs_Odebrecht  Bluecollar_Odebrecht  \\\n",
      "Stats_2013                                                           \n",
      "N                                     318.00               5100.00   \n",
      "%                                       5.87                 94.13   \n",
      "Schooling(median)                       7.00                  7.00   \n",
      "Age(mean)                              39.50                 34.31   \n",
      "Tenure(months_mean)                    15.01                 14.33   \n",
      "\n",
      "                     Entrepreneurs_Camargo  Bluecollar_Camargo  \n",
      "Stats_2013                                                      \n",
      "N                                    61.00              727.00  \n",
      "%                                     7.74               92.26  \n",
      "Schooling(median)                     8.00                7.00  \n",
      "Age(mean)                            41.31               33.17  \n",
      "Tenure(months_mean)                  35.49               22.19  \n"
     ]
    }
   ],
   "source": [
    "sumstats(2013)"
   ]
  },
  {
   "cell_type": "code",
   "execution_count": 140,
   "id": "b8aa0a4b",
   "metadata": {
    "scrolled": true
   },
   "outputs": [
    {
     "name": "stdout",
     "output_type": "stream",
     "text": [
      "A tabela é referente aos funcionários que deixaram a Odebrecht ou a Camargo Corrêa em 2014 e que até o fim de 2016 criaram novas empresas ('entrepreneurs') ou foram contratados por outras empresas fora do grupo econômico de sua empregadora de 2014 ('blue collar')\n",
      "                     Entrepreneurs_Odebrecht  Bluecollar_Odebrecht  \\\n",
      "Stats_2014                                                           \n",
      "N                                     252.00               4765.00   \n",
      "%                                       5.02                 94.98   \n",
      "Schooling(median)                       7.00                  7.00   \n",
      "Age(mean)                              38.39                 34.85   \n",
      "Tenure(months_mean)                    15.44                 13.02   \n",
      "\n",
      "                     Entrepreneurs_Camargo  Bluecollar_Camargo  \n",
      "Stats_2014                                                      \n",
      "N                                   113.00             1339.00  \n",
      "%                                     7.78               92.22  \n",
      "Schooling(median)                     7.00                7.00  \n",
      "Age(mean)                            39.45               34.44  \n",
      "Tenure(months_mean)                  30.35               23.69  \n"
     ]
    }
   ],
   "source": [
    "sumstats(2014)"
   ]
  },
  {
   "cell_type": "code",
   "execution_count": 141,
   "id": "fb1c68b5",
   "metadata": {
    "scrolled": true
   },
   "outputs": [
    {
     "name": "stdout",
     "output_type": "stream",
     "text": [
      "A tabela é referente aos funcionários que deixaram a Odebrecht ou a Camargo Corrêa em 2015 e que até o fim de 2017 criaram novas empresas ('entrepreneurs') ou foram contratados por outras empresas fora do grupo econômico de sua empregadora de 2015 ('blue collar')\n",
      "                     Entrepreneurs_Odebrecht  Bluecollar_Odebrecht  \\\n",
      "Stats_2015                                                           \n",
      "N                                     174.00               4223.00   \n",
      "%                                       3.96                 96.04   \n",
      "Schooling(median)                       7.00                  7.00   \n",
      "Age(mean)                              40.60                 35.38   \n",
      "Tenure(months_mean)                    18.90                 20.87   \n",
      "\n",
      "                     Entrepreneurs_Camargo  Bluecollar_Camargo  \n",
      "Stats_2015                                                      \n",
      "N                                    53.00              454.00  \n",
      "%                                    10.45               89.55  \n",
      "Schooling(median)                     9.00                8.00  \n",
      "Age(mean)                            39.59               33.74  \n",
      "Tenure(months_mean)                  52.51               44.40  \n"
     ]
    }
   ],
   "source": [
    "sumstats(2015)"
   ]
  },
  {
   "cell_type": "code",
   "execution_count": 142,
   "id": "bd939b8c",
   "metadata": {},
   "outputs": [
    {
     "name": "stdout",
     "output_type": "stream",
     "text": [
      "A tabela é referente aos funcionários que deixaram a Odebrecht ou a Camargo Corrêa em 2016 e que até o fim de 2018 criaram novas empresas ('entrepreneurs') ou foram contratados por outras empresas fora do grupo econômico de sua empregadora de 2016 ('blue collar')\n",
      "                     Entrepreneurs_Odebrecht  Bluecollar_Odebrecht  \\\n",
      "Stats_2016                                                           \n",
      "N                                     161.00               3611.00   \n",
      "%                                       4.27                 95.73   \n",
      "Schooling(median)                       7.00                  7.00   \n",
      "Age(mean)                              39.67                 35.79   \n",
      "Tenure(months_mean)                    19.00                 24.68   \n",
      "\n",
      "                     Entrepreneurs_Camargo  Bluecollar_Camargo  \n",
      "Stats_2016                                                      \n",
      "N                                    30.00              334.00  \n",
      "%                                     8.24               91.76  \n",
      "Schooling(median)                     9.00                9.00  \n",
      "Age(mean)                            41.02               35.43  \n",
      "Tenure(months_mean)                  96.39               58.72  \n"
     ]
    }
   ],
   "source": [
    "sumstats(2016)"
   ]
  }
 ],
 "metadata": {
  "kernelspec": {
   "display_name": "Python 3 (ipykernel)",
   "language": "python",
   "name": "python3"
  },
  "language_info": {
   "codemirror_mode": {
    "name": "ipython",
    "version": 3
   },
   "file_extension": ".py",
   "mimetype": "text/x-python",
   "name": "python",
   "nbconvert_exporter": "python",
   "pygments_lexer": "ipython3",
   "version": "3.9.12"
  }
 },
 "nbformat": 4,
 "nbformat_minor": 5
}
